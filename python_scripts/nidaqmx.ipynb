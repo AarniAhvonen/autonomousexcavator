{
 "cells": [
  {
   "cell_type": "code",
   "execution_count": null,
   "id": "7466b5d9",
   "metadata": {},
   "outputs": [],
   "source": [
    "!pip install nidaqmx\n",
    "\n",
    "import nidaqmx\n",
    "from IPython.display import clear_output\n",
    "\n",
    "\n",
    "with nidaqmx.Task() as task:\n",
    "    task.ai_channels.add_ai_current_chan(\"Dev3/ai0\")\n",
    "    a=task.read()\n",
    "    print(a)\n",
    "with nidaqmx.Task() as task:\n",
    "    task.ai_channels.add_ai_voltage_chan(\"Dev3/ai0\")\n",
    "    a=task.read()\n",
    "    print(a)\n",
    "\n",
    "\n",
    "\n",
    "\n",
    "while 1:\n",
    "    with nidaqmx.Task() as task:\n",
    "        task.ai_channels.add_ai_voltage_chan(\"Dev3/ai0\")\n",
    "        a=task.read()\n",
    "        clear_output(wait=True)\n",
    "        print(a)\n",
    "\n",
    "\n",
    "with nidaqmx.Task() as task:\n",
    "    ai_channel = task.ai_channels.add_ai_voltage_chan(\"Dev1/ai0\", terminal_config = TerminalConfiguration.NRSE)"
   ]
  }
 ],
 "metadata": {
  "kernelspec": {
   "display_name": "Python 3 (ipykernel)",
   "language": "python",
   "name": "python3"
  },
  "language_info": {
   "codemirror_mode": {
    "name": "ipython",
    "version": 3
   },
   "file_extension": ".py",
   "mimetype": "text/x-python",
   "name": "python",
   "nbconvert_exporter": "python",
   "pygments_lexer": "ipython3",
   "version": "3.9.12"
  }
 },
 "nbformat": 4,
 "nbformat_minor": 5
}
